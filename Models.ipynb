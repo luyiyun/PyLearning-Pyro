{
 "nbformat": 4,
 "nbformat_minor": 2,
 "metadata": {
  "language_info": {
   "name": "python",
   "codemirror_mode": {
    "name": "ipython",
    "version": 3
   },
   "version": "3.7.3-final"
  },
  "orig_nbformat": 2,
  "file_extension": ".py",
  "mimetype": "text/x-python",
  "name": "python",
  "npconvert_exporter": "python",
  "pygments_lexer": "ipython3",
  "version": 3,
  "kernelspec": {
   "name": "python37364bitb8b279b2598c4fc782452ea1b2872f13",
   "display_name": "Python 3.7.3 64-bit"
  }
 },
 "cells": [
  {
   "cell_type": "markdown",
   "metadata": {},
   "source": [
    "# Models in Pyro"
   ]
  },
  {
   "cell_type": "markdown",
   "metadata": {},
   "source": [
    "这里Models注意指的是随机函数（stochastic funciton），其一般由两部分组成：\n",
    "\n",
    "- 原始随机函数，即随机数生成器；\n",
    "- 以随机数为输入的确定性的python代码。\n",
    "\n",
    "在code层面上，随机函数一般被建构成函数、带有`__call__`方法的对象、方法或PyTorch `nn.Module`对象。"
   ]
  },
  {
   "cell_type": "code",
   "execution_count": 1,
   "metadata": {},
   "outputs": [],
   "source": [
    "import torch\n",
    "import pyro\n",
    "\n",
    "pyro.set_rng_seed(101)"
   ]
  },
  {
   "cell_type": "markdown",
   "metadata": {},
   "source": [
    "## 原始随机函数"
   ]
  },
  {
   "cell_type": "markdown",
   "metadata": {},
   "source": [
    "就是随机分布生成器。"
   ]
  },
  {
   "cell_type": "code",
   "execution_count": 2,
   "metadata": {},
   "outputs": [
    {
     "output_type": "stream",
     "name": "stdout",
     "text": "sample tensor(-1.3905)\nlog prob tensor(-1.8857)\n"
    }
   ],
   "source": [
    "normal = torch.distributions.Normal(0, 1.0)  # 这个东西和scipy.stats.normal是一致的\n",
    "x = normal.rsample()\n",
    "print(\"sample\", x)\n",
    "print(\"log prob\", normal.log_prob(x))"
   ]
  },
  {
   "cell_type": "markdown",
   "metadata": {},
   "source": [
    "当然，`pyro`中也有`pyro.distributions`，其就是对`torch.distributions`的一个wrapper。"
   ]
  },
  {
   "cell_type": "code",
   "execution_count": 3,
   "metadata": {},
   "outputs": [
    {
     "output_type": "stream",
     "name": "stdout",
     "text": "sample tensor(-0.8152)\nlog prob tensor(-1.2512)\n"
    }
   ],
   "source": [
    "normal2 = pyro.distributions.Normal(0, 1.0)\n",
    "x = normal2.rsample()\n",
    "print(\"sample\", x)\n",
    "print(\"log prob\", normal2.log_prob(x))"
   ]
  },
  {
   "cell_type": "markdown",
   "metadata": {},
   "source": [
    "## 一个简单的model实例"
   ]
  },
  {
   "cell_type": "markdown",
   "metadata": {},
   "source": [
    "这里可以理解模型为**现实生活中带有随机性数据的生成器**。"
   ]
  },
  {
   "cell_type": "markdown",
   "metadata": {},
   "source": [
    "比如下面描述了温度的生成过程，其中影响它的主要因素是晴天还是阴天："
   ]
  },
  {
   "cell_type": "code",
   "execution_count": 4,
   "metadata": {},
   "outputs": [],
   "source": [
    "def wether():\n",
    "    cloudy = torch.distributions.Bernoulli(0.3).sample()  # sample方法是正常的采样方法，无法进行反向传播\n",
    "    cloudy = \"cloudy\" if cloudy.item() == 1.0 else \"sunny\"\n",
    "    mean_temp = {\"cloudy\": 55.0, \"sunny\": 75.0}[cloudy]\n",
    "    scale_temp = {\"cloudy\": 10.0, \"sunny\": 15.0}[cloudy]\n",
    "    temp = torch.distributions.Normal(mean_temp, scale_temp).rsample()  # rsample是使用了重参数化技巧，可以进行反向传播，可以使用`has_rsample`方法来查看是否有此方法\n",
    "    return cloudy, temp.item()"
   ]
  },
  {
   "cell_type": "markdown",
   "metadata": {},
   "source": [
    "## pyro的model"
   ]
  },
  {
   "cell_type": "markdown",
   "metadata": {},
   "source": [
    "上面的是使用`pytorch`的model，但如果我们希望使用`pyro`的工具，就需要：\n",
    "\n",
    "- 使用`pyro.distributions`来替代`torch.distributions`；\n",
    "- 使用`pyro.sample`函数替代原来的`.sample()`或`.rsample()`方法；"
   ]
  },
  {
   "cell_type": "code",
   "execution_count": 6,
   "metadata": {},
   "outputs": [],
   "source": [
    "def wether():\n",
    "    cloudy = pyro.sample(\"cloudy\", pyro.distributions.Bernoulli(0.3))\n",
    "    cloudy = \"cloudy\" if cloudy.item() == 1.0 else \"sunny\"\n",
    "    mean_temp = {\"cloudy\": 55.0, \"sunny\": 75.0}[cloudy]\n",
    "    scale_temp = {\"cloudy\": 10.0, \"sunny\": 15.0}[cloudy]\n",
    "    temp = pyro.sample(\"temp\", pyro.distributions.Normal(mean_temp, scale_temp))\n",
    "    return cloudy, temp.item()"
   ]
  },
  {
   "cell_type": "code",
   "execution_count": 7,
   "metadata": {},
   "outputs": [
    {
     "output_type": "stream",
     "name": "stdout",
     "text": "('cloudy', 64.5440444946289)\n('sunny', 94.37557983398438)\n('sunny', 72.5186767578125)\n"
    }
   ],
   "source": [
    "for _ in range(3):\n",
    "    print(wether())"
   ]
  },
  {
   "cell_type": "markdown",
   "metadata": {},
   "source": [
    "上述两个改变，除了保留了原始的功能外，实际上其还尽力了一个概率图模型，使得我们可以依照概率论的技术来进行后验推断等等。"
   ]
  },
  {
   "cell_type": "markdown",
   "metadata": {},
   "source": [
    "## 递归调用model"
   ]
  },
  {
   "cell_type": "markdown",
   "metadata": {},
   "source": [
    "Model本质上是一个函数，我们可以在另外的一个model中调用它来实现更大规模的概率图模型。"
   ]
  },
  {
   "cell_type": "code",
   "execution_count": 10,
   "metadata": {},
   "outputs": [],
   "source": [
    "def ice_cream_sales():\n",
    "    cloudy, temp = wether()\n",
    "    expected_sales = 200. if cloudy == \"sunny\" and temp > 80.0 else 50.\n",
    "    ice_cream = pyro.sample(\"ice_cream\", pyro.distributions.Normal(expected_sales, 10.0))\n",
    "    return ice_cream"
   ]
  },
  {
   "cell_type": "code",
   "execution_count": 11,
   "metadata": {},
   "outputs": [
    {
     "output_type": "stream",
     "name": "stdout",
     "text": "tensor(220.6519)\ntensor(210.4119)\ntensor(44.5011)\n"
    }
   ],
   "source": [
    "for _ in range(3):\n",
    "    print(ice_cream_sales())"
   ]
  },
  {
   "cell_type": "markdown",
   "metadata": {},
   "source": [
    "我们甚至可以使用递归来建立model，只需要使用不同的名称即可。"
   ]
  },
  {
   "cell_type": "code",
   "execution_count": 12,
   "metadata": {},
   "outputs": [],
   "source": [
    "def geometric(p, t=None):\n",
    "    # 这里得到的是几何分布的一次采样，即单次为独立的伯努利分布，直到出现一次1之前出现0的次数\n",
    "    if t is None:\n",
    "        t = 0\n",
    "    x = pyro.sample(\"x_{}\".format(t), pyro.distributions.Bernoulli(p))\n",
    "    if x.item() == 1:\n",
    "        return 0\n",
    "    else:\n",
    "        return 1 + geometric(p, t + 1)"
   ]
  },
  {
   "cell_type": "code",
   "execution_count": 13,
   "metadata": {},
   "outputs": [
    {
     "output_type": "stream",
     "name": "stdout",
     "text": "1\n"
    }
   ],
   "source": [
    "print(geometric(0.5))"
   ]
  },
  {
   "cell_type": "markdown",
   "metadata": {},
   "source": [
    "或者定义model接受其他model随机的sample作为输入"
   ]
  },
  {
   "cell_type": "code",
   "execution_count": 15,
   "metadata": {},
   "outputs": [
    {
     "output_type": "stream",
     "name": "stdout",
     "text": "tensor(9.8305)\n"
    }
   ],
   "source": [
    "def normal_product(loc, scale):\n",
    "    z1 = pyro.sample(\"z1\", pyro.distributions.Normal(loc, scale))\n",
    "    z2 = pyro.sample(\"z2\", pyro.distributions.Normal(loc, scale))\n",
    "    y = z1 * z2\n",
    "    return y\n",
    "\n",
    "def make_normal_normal():\n",
    "    mu_latent = pyro.sample(\"mu_latent\", pyro.distributions.Normal(0, 1))\n",
    "    fn = lambda scale: normal_product(mu_latent, scale)\n",
    "    return fn\n",
    "\n",
    "print(make_normal_normal()(1.0))"
   ]
  },
  {
   "cell_type": "markdown",
   "metadata": {},
   "source": [
    "**以上说明，`pyro` Models可以利用几乎所有的python语法，类似`PyTorch`。**"
   ]
  }
 ]
}