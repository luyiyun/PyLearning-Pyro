{
 "nbformat": 4,
 "nbformat_minor": 2,
 "metadata": {
  "language_info": {
   "name": "python",
   "codemirror_mode": {
    "name": "ipython",
    "version": 3
   },
   "version": "3.7.3-final"
  },
  "orig_nbformat": 2,
  "file_extension": ".py",
  "mimetype": "text/x-python",
  "name": "python",
  "npconvert_exporter": "python",
  "pygments_lexer": "ipython3",
  "version": 3,
  "kernelspec": {
   "name": "python37364bitb8b279b2598c4fc782452ea1b2872f13",
   "display_name": "Python 3.7.3 64-bit"
  }
 },
 "cells": [
  {
   "cell_type": "markdown",
   "metadata": {},
   "source": [
    "# Inference"
   ]
  },
  {
   "cell_type": "code",
   "execution_count": 1,
   "metadata": {},
   "outputs": [],
   "source": [
    "import matplotlib.pyplot as plt\n",
    "import numpy as np\n",
    "import torch\n",
    "\n",
    "import pyro\n",
    "import pyro.infer\n",
    "import pyro.optim\n",
    "import pyro.distributions as dist\n",
    "\n",
    "pyro.set_rng_seed(101)"
   ]
  },
  {
   "cell_type": "markdown",
   "metadata": {},
   "source": [
    "现在考虑一个简单的模型：\n",
    "\n",
    "$$\n",
    "weight|guess \\sim Normal(guess, 1) \\\\\n",
    "measurement|guess, weight \\sim Normal(weight, 0.75)\n",
    "$$"
   ]
  },
  {
   "cell_type": "markdown",
   "metadata": {},
   "source": [
    "这是一个关于物体重量的模型，其随机性来自于两个方面：\n",
    "\n",
    "1. 是这个物体本身的随机性，即这个物体可能是2kg，也可能是3kg，我们先验的认为是guess kg，则真实的weight是以此为均值的正态分布。\n",
    "2. 是测量的随机性，即相同的物体在不同时刻测量有不同的measurement，这个也被认为是一个正态随机噪声。"
   ]
  },
  {
   "cell_type": "code",
   "execution_count": 2,
   "metadata": {},
   "outputs": [
    {
     "output_type": "stream",
     "name": "stdout",
     "text": "tensor(7.9981)\ntensor(10.2329)\ntensor(8.6991)\ntensor(9.4201)\ntensor(7.0255)\n"
    }
   ],
   "source": [
    "# 使用pyro模型表示\n",
    "\n",
    "def scale(guess):\n",
    "    weight = pyro.sample(\"weight\", dist.Normal(guess, 1.0))\n",
    "    return pyro.sample(\"measurement\", dist.Normal(weight, 0.75))\n",
    "for _ in range(5):\n",
    "    print(scale(10))"
   ]
  },
  {
   "cell_type": "markdown",
   "metadata": {},
   "source": [
    "## Conditioning"
   ]
  },
  {
   "cell_type": "markdown",
   "metadata": {},
   "source": [
    "现在对于我们进行推断的第一步，需要将观察的数据放入model中，即对其中的某个变量进行限制，然后才能进行推断。比如现在我们观察到我们的测量结果是9.5，然后我们希望去推断真实的weight是多少？\n",
    "\n",
    "单纯限制其中某些变量、提供观察数据的工作由下面的几种方式来完成："
   ]
  },
  {
   "cell_type": "markdown",
   "metadata": {},
   "source": [
    "第一，使用`pyro.condition`函数，其接受一个model和观测，然后返回一个新的model（这个model接受的输入和之前的model一致）。注意，其只是做到了把观测放入模型，还没有求出后验分布。"
   ]
  },
  {
   "cell_type": "code",
   "execution_count": 3,
   "metadata": {},
   "outputs": [
    {
     "output_type": "execute_result",
     "data": {
      "text/plain": "9.5"
     },
     "metadata": {},
     "execution_count": 3
    }
   ],
   "source": [
    "def deferred_conditioned_scale(measurement, guess):\n",
    "    return pyro.condition(scale, data={\"measurement\": measurement})(guess)\n",
    "deferred_conditioned_scale(9.5, 10)"
   ]
  },
  {
   "cell_type": "code",
   "execution_count": 5,
   "metadata": {},
   "outputs": [
    {
     "output_type": "execute_result",
     "data": {
      "text/plain": "9.5"
     },
     "metadata": {},
     "execution_count": 5
    }
   ],
   "source": [
    "# 其返回的就是9.5，因为原始的model输出的是measurement的值，现在你固定了measurement的值，则其只会返回这个值。\n",
    "deferred_conditioned_scale(9.5, 5)"
   ]
  },
  {
   "cell_type": "markdown",
   "metadata": {},
   "source": [
    "第二，使用`pyro.sample`中的`obs`参数，其效果和`condition`一致"
   ]
  },
  {
   "cell_type": "code",
   "execution_count": 6,
   "metadata": {},
   "outputs": [
    {
     "output_type": "execute_result",
     "data": {
      "text/plain": "9.5"
     },
     "metadata": {},
     "execution_count": 6
    }
   ],
   "source": [
    "def scale_obs(guess):\n",
    "    weight = pyro.sample(\"weight\", dist.Normal(guess, 1.0))\n",
    "    return pyro.sample(\"measurement\", dist.Normal(weight, 0.75), obs=9.5)\n",
    "scale_obs(10)"
   ]
  },
  {
   "cell_type": "markdown",
   "metadata": {},
   "source": [
    "最后一种方式，是使用`pyro.do`，来自因果推断的语言。"
   ]
  },
  {
   "cell_type": "code",
   "execution_count": null,
   "metadata": {},
   "outputs": [],
   "source": []
  }
 ]
}