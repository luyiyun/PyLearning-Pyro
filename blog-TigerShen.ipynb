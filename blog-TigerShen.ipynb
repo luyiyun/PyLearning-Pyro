{
 "nbformat": 4,
 "nbformat_minor": 2,
 "metadata": {
  "language_info": {
   "name": "python",
   "codemirror_mode": {
    "name": "ipython",
    "version": 3
   },
   "version": "3.7.3-final"
  },
  "orig_nbformat": 2,
  "file_extension": ".py",
  "mimetype": "text/x-python",
  "name": "python",
  "npconvert_exporter": "python",
  "pygments_lexer": "ipython3",
  "version": 3,
  "kernelspec": {
   "name": "python37364bitlearningpyenv29fd259862cb48389e059aad46ca26e1",
   "display_name": "Python 3.7.3 64-bit ('learning': pyenv)"
  }
 },
 "cells": [
  {
   "cell_type": "markdown",
   "metadata": {},
   "source": [
    "James、Tiger和Jason每次去餐厅吃饭的时候，都通过玩轮盘赌的方式来决定谁来付款。吃完20顿饭后，James付了4次、Tiger付了9次、Jason付了7次。\n",
    "\n",
    "Tiger现在非常生气，他开始怀疑是不是有什么问题，因为他几乎付了一半的钱，现在他开始建立一个模型来看是否有犯规行为。"
   ]
  },
  {
   "cell_type": "code",
   "execution_count": 11,
   "metadata": {},
   "outputs": [],
   "source": [
    "import torch\n",
    "import pyro\n",
    "import pyro.distributions as dist\n",
    "from pyro.infer import SVI, Trace_ELBO\n",
    "from pyro.optim import Adam\n",
    "from pyro.distributions import constraints"
   ]
  },
  {
   "cell_type": "code",
   "execution_count": 3,
   "metadata": {},
   "outputs": [],
   "source": [
    "# performed some good Pyro hygiene\n",
    "\n",
    "pyro.enable_validation(True)  # 提供NaNs、正确的参数范围等的检查，可能会降低效率\n",
    "pyro.clear_param_store()"
   ]
  },
  {
   "cell_type": "code",
   "execution_count": 5,
   "metadata": {},
   "outputs": [
    {
     "output_type": "execute_result",
     "data": {
      "text/plain": "tensor([0., 0., 0., 0., 0., 0., 0., 0., 0., 1., 1., 1., 1., 1., 1., 1., 2., 2.,\n        2., 2.])"
     },
     "metadata": {},
     "execution_count": 5
    }
   ],
   "source": [
    "# 数据，是一个categorical数据，分别表示Tiger、Jason和James\n",
    "data = torch.cat((torch.zeros(9), torch.ones(7), torch.full((4,), 2)))\n",
    "data"
   ]
  },
  {
   "cell_type": "markdown",
   "metadata": {},
   "source": [
    "现在我们的数据由一个Categorical分布生成，其拥有3个参数（但3个参数的和为1），现在假设这3个参数服从Beta分布。则我们有以下model："
   ]
  },
  {
   "cell_type": "code",
   "execution_count": 13,
   "metadata": {},
   "outputs": [],
   "source": [
    "def model(data):\n",
    "    alpha = torch.tensor(6.0)\n",
    "    beta = torch.tensor(10.0)\n",
    "    with pyro.plate(\"plate1\", 3):\n",
    "        pay_probs = pyro.sample(\"pay_probs\", dist.Beta(alpha, beta))\n",
    "    normalized_pay_probs = pay_probs / torch.sum(pay_probs)\n",
    "    with pyro.plate(\"plate2\"):\n",
    "        pyro.sample(\"obs\", dist.Categorical(probs=normalized_pay_probs), obs=data)"
   ]
  },
  {
   "cell_type": "code",
   "execution_count": 8,
   "metadata": {},
   "outputs": [],
   "source": [
    "def guide(data):\n",
    "    alphas = pyro.param(\"alphas\", torch.tensor(6.).expand(3), constraint=constraints.positive)\n",
    "    betas = pyro.param(\"betas\", torch.tensor(10.).expand(3), constraint=constraints.positive)\n",
    "    with pyro.plate(\"plate3\", 3):\n",
    "        pyro.sample(\"pay_probs\", dist.Beta(alphas, betas))"
   ]
  },
  {
   "cell_type": "code",
   "execution_count": 9,
   "metadata": {},
   "outputs": [],
   "source": [
    "def print_progress():\n",
    "    alphas = pyro.param(\"alphas\")\n",
    "    betas = pyro.param(\"betas\")\n",
    "\n",
    "    if torch.cuda.is_available():\n",
    "        alphas.cuda()\n",
    "        betas.cuda()\n",
    "    \n",
    "    means = alphas / (alphas + betas)\n",
    "    normalized_means = means / torch.sum(means)\n",
    "    factors = betas / (alphas * (1.0 + alphas + betas))\n",
    "    stdevs = normalized_means * torch.sqrt(factors)\n",
    "    tiger_pays_string = \"probability Tiger pays: {0:.3f} +/- {1:.2f}\".format(normalized_means[0], stdevs[0])\n",
    "    jason_pays_string = \"probability Jason pays: {0:.3f} +/- {1:.2f}\".format(normalized_means[1], stdevs[1])\n",
    "    james_pays_string = \"probability James pays: {0:.3f} +/- {1:.2f}\".format(normalized_means[2], stdevs[2])\n",
    "    print(\"[\", step, \"|\", tiger_pays_string, \"|\", jason_pays_string, \"|\", james_pays_string, \"]\")\n",
    ""
   ]
  },
  {
   "cell_type": "code",
   "execution_count": 14,
   "metadata": {},
   "outputs": [
    {
     "output_type": "stream",
     "name": "stdout",
     "text": "[ 0 | probability Tiger pays: 0.333 +/- 0.10 | probability Jason pays: 0.333 +/- 0.10 | probability James pays: 0.333 +/- 0.10 ]\n[ 100 | probability Tiger pays: 0.340 +/- 0.10 | probability Jason pays: 0.336 +/- 0.10 | probability James pays: 0.324 +/- 0.10 ]\n[ 200 | probability Tiger pays: 0.346 +/- 0.10 | probability Jason pays: 0.338 +/- 0.10 | probability James pays: 0.316 +/- 0.10 ]\n[ 300 | probability Tiger pays: 0.353 +/- 0.11 | probability Jason pays: 0.338 +/- 0.10 | probability James pays: 0.309 +/- 0.10 ]\n[ 400 | probability Tiger pays: 0.359 +/- 0.11 | probability Jason pays: 0.339 +/- 0.10 | probability James pays: 0.301 +/- 0.10 ]\n[ 500 | probability Tiger pays: 0.363 +/- 0.11 | probability Jason pays: 0.336 +/- 0.10 | probability James pays: 0.301 +/- 0.10 ]\n[ 600 | probability Tiger pays: 0.364 +/- 0.11 | probability Jason pays: 0.338 +/- 0.10 | probability James pays: 0.299 +/- 0.10 ]\n[ 700 | probability Tiger pays: 0.369 +/- 0.11 | probability Jason pays: 0.338 +/- 0.10 | probability James pays: 0.294 +/- 0.10 ]\n[ 800 | probability Tiger pays: 0.373 +/- 0.11 | probability Jason pays: 0.337 +/- 0.10 | probability James pays: 0.290 +/- 0.10 ]\n[ 900 | probability Tiger pays: 0.372 +/- 0.11 | probability Jason pays: 0.340 +/- 0.10 | probability James pays: 0.287 +/- 0.10 ]\n[ 1000 | probability Tiger pays: 0.375 +/- 0.11 | probability Jason pays: 0.339 +/- 0.10 | probability James pays: 0.286 +/- 0.10 ]\n[ 1100 | probability Tiger pays: 0.377 +/- 0.11 | probability Jason pays: 0.339 +/- 0.10 | probability James pays: 0.285 +/- 0.10 ]\n[ 1200 | probability Tiger pays: 0.377 +/- 0.11 | probability Jason pays: 0.339 +/- 0.10 | probability James pays: 0.284 +/- 0.10 ]\n[ 1300 | probability Tiger pays: 0.377 +/- 0.10 | probability Jason pays: 0.338 +/- 0.10 | probability James pays: 0.285 +/- 0.10 ]\n[ 1400 | probability Tiger pays: 0.377 +/- 0.10 | probability Jason pays: 0.338 +/- 0.10 | probability James pays: 0.284 +/- 0.10 ]\n[ 1500 | probability Tiger pays: 0.376 +/- 0.10 | probability Jason pays: 0.341 +/- 0.10 | probability James pays: 0.283 +/- 0.10 ]\n[ 1600 | probability Tiger pays: 0.379 +/- 0.10 | probability Jason pays: 0.339 +/- 0.10 | probability James pays: 0.282 +/- 0.10 ]\n[ 1700 | probability Tiger pays: 0.378 +/- 0.10 | probability Jason pays: 0.341 +/- 0.10 | probability James pays: 0.281 +/- 0.10 ]\n[ 1800 | probability Tiger pays: 0.379 +/- 0.10 | probability Jason pays: 0.342 +/- 0.10 | probability James pays: 0.279 +/- 0.10 ]\n[ 1900 | probability Tiger pays: 0.379 +/- 0.10 | probability Jason pays: 0.340 +/- 0.10 | probability James pays: 0.281 +/- 0.10 ]\n[ 2000 | probability Tiger pays: 0.377 +/- 0.10 | probability Jason pays: 0.340 +/- 0.10 | probability James pays: 0.283 +/- 0.10 ]\n[ 2100 | probability Tiger pays: 0.375 +/- 0.10 | probability Jason pays: 0.339 +/- 0.10 | probability James pays: 0.286 +/- 0.10 ]\n[ 2200 | probability Tiger pays: 0.378 +/- 0.10 | probability Jason pays: 0.336 +/- 0.10 | probability James pays: 0.285 +/- 0.10 ]\n[ 2300 | probability Tiger pays: 0.379 +/- 0.10 | probability Jason pays: 0.339 +/- 0.10 | probability James pays: 0.283 +/- 0.10 ]\n[ 2400 | probability Tiger pays: 0.380 +/- 0.10 | probability Jason pays: 0.340 +/- 0.10 | probability James pays: 0.279 +/- 0.09 ]\n[ 2500 | probability Tiger pays: 0.383 +/- 0.10 | probability Jason pays: 0.340 +/- 0.10 | probability James pays: 0.277 +/- 0.09 ]\n"
    }
   ],
   "source": [
    "adam_params = {\"lr\": 0.0005}\n",
    "optimizer = Adam(adam_params)\n",
    "svi = SVI(model, guide, optimizer, loss=Trace_ELBO())\n",
    "\n",
    "n_steps = 2501\n",
    "for step in range(n_steps):\n",
    "    svi.step(data)\n",
    "    if step % 100 == 0:\n",
    "        print_progress()"
   ]
  },
  {
   "cell_type": "code",
   "execution_count": null,
   "metadata": {},
   "outputs": [],
   "source": []
  }
 ]
}