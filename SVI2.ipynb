{
 "cells": [
  {
   "cell_type": "markdown",
   "metadata": {},
   "source": [
    "# SVI: Conditinal Independence, Subsampling, Amortization"
   ]
  },
  {
   "cell_type": "markdown",
   "metadata": {},
   "source": [
    "这一部分主要讨论如何提高SVI的效率。"
   ]
  },
  {
   "cell_type": "markdown",
   "metadata": {},
   "source": [
    "目标是希望将SVI应用到大型的Datasets上。"
   ]
  },
  {
   "cell_type": "markdown",
   "metadata": {},
   "source": [
    "比如，类似DNN中的minibatch-backpropagation。只要在给定prior的条件下，X的分布在不同的样本间是独立的，则就可以使用下面的操作：\n",
    "\n",
    "\n",
    "$$\\sum_{i=1}^N{\\log{p(X_i|Z)}}\\approx\\frac{N}{M}\\sum_{i\\in{\\mathscr{i}_M}}{\\log{p(X_i|Z)}}$$"
   ]
  },
  {
   "cell_type": "markdown",
   "metadata": {},
   "source": [
    "其中$\\mathscr{i}_M$是样本量大小为M的mini-batch。即每次进行参数更新的时候，只是使用其中的随机一部分样本。"
   ]
  },
  {
   "cell_type": "markdown",
   "metadata": {},
   "source": [
    "## Marking Conditional Independence in Pyro"
   ]
  },
  {
   "cell_type": "markdown",
   "metadata": {},
   "source": [
    "首先第一步，我们需要在model和guide中指定条件独立性："
   ]
  },
  {
   "cell_type": "code",
   "execution_count": 3,
   "metadata": {},
   "outputs": [],
   "source": [
    "# 这是我们之前的做法\n",
    "import pyro\n",
    "import pyro.distributions as dist\n",
    "\n",
    "def model(data):\n",
    "    f = pyro.sample(\"latent_fairness\", dist.Beta(10.0, 10.0))\n",
    "    for i in range(len(data)):\n",
    "        pyro.sample(\"obs_{}\".format(i), dist.Bernoulli(f), obs=data[i])"
   ]
  },
  {
   "cell_type": "markdown",
   "metadata": {},
   "source": [
    "其实精确定义条件独立性的方法，就是使用`pyor.plate`来替代`range`，注意，此时需要给与一个唯一的名称："
   ]
  },
  {
   "cell_type": "code",
   "execution_count": 4,
   "metadata": {},
   "outputs": [],
   "source": [
    "def model(data):\n",
    "    f = pyro.sample(\"latent_fairness\", dist.Beta(10, 10))\n",
    "    for i in pyro.plate(\"data_loop\", len(data)):\n",
    "        pyro.sample(\"obs_{}\".format(i), dist.Bernoulli(f), obs=data[i])"
   ]
  },
  {
   "cell_type": "markdown",
   "metadata": {},
   "source": [
    "注意，使用的时候不用再外面再嵌套`list`等东西，比如：`list(pyro.plate(\"data_loop\", len(data)))`。"
   ]
  },
  {
   "cell_type": "markdown",
   "metadata": {},
   "source": [
    "除了上面的seq版`plate`，还有一个速度更快的矢量版`plate`："
   ]
  },
  {
   "cell_type": "code",
   "execution_count": 6,
   "metadata": {},
   "outputs": [],
   "source": [
    "import torch\n",
    "\n",
    "data = torch.zeros(10)\n",
    "data[0:6] = torch.ones(6)  # 首先需要观察到的obs_data是tensor\n",
    "\n",
    "def model(data):\n",
    "    f = pyro.sample(\"latent_fairness\", dist.Beta(10.0, 10.0))\n",
    "    with pyro.plate(\"observe_data\"):  # 直接把plate当做一个上下文管理器\n",
    "        pyro.sample(\"obs\", dist.Bernoulli(f), obs=data)"
   ]
  },
  {
   "cell_type": "markdown",
   "metadata": {},
   "source": [
    "## Subsampling"
   ]
  },
  {
   "cell_type": "markdown",
   "metadata": {},
   "source": [
    "这里有多种方式实现子采样minibatch"
   ]
  },
  {
   "cell_type": "markdown",
   "metadata": {},
   "source": [
    "第一种依然是依赖于`plate`，在seq版本中，只需要给一个参数`subsample_size`即可。"
   ]
  },
  {
   "cell_type": "code",
   "execution_count": 8,
   "metadata": {},
   "outputs": [],
   "source": [
    "def model(data):\n",
    "    f = pyro.sample(\"latent_fairness\", dist.Beta(10, 10))\n",
    "    for i in pyro.plate(\"data_loop\", len(data), subsample_size=5):\n",
    "        pyro.sample(\"obs_{}\".format(i), dist.Bernoulli(f), obs=data[i])\n",
    "\n",
    "model(data)"
   ]
  },
  {
   "cell_type": "markdown",
   "metadata": {},
   "source": [
    "另一个矢量化版本中，需要补充N、minibatch的大小，然后使用其提供的一个ind来实现："
   ]
  },
  {
   "cell_type": "code",
   "execution_count": 11,
   "metadata": {},
   "outputs": [
    {
     "name": "stdout",
     "output_type": "stream",
     "text": [
      "tensor([7, 2, 6, 3, 8], device='cuda:0')\n"
     ]
    }
   ],
   "source": [
    "def model(data):\n",
    "    f = pyro.sample(\"latent_fairness\", dist.Beta(10.0, 10.0))\n",
    "    with pyro.plate(\"observe_data\", size=10, subsample_size=5, device=\"cuda:0\") as ind:  # 直接把plate当做一个上下文管理器\n",
    "        pyro.sample(\"obs\", dist.Bernoulli(f), obs=data[ind])\n",
    "    print(ind)\n",
    "\n",
    "model(data)"
   ]
  },
  {
   "cell_type": "markdown",
   "metadata": {},
   "source": [
    "注意到，`plate`可以提供一个`device`参数来将提供的ind放到GPU上，如果data是在gpu上的话。"
   ]
  },
  {
   "cell_type": "markdown",
   "metadata": {},
   "source": [
    "另外，其还有一个`subsample`参数来细致的控制子采样过程。"
   ]
  },
  {
   "cell_type": "markdown",
   "metadata": {},
   "source": [
    "以上进行的条件独立性只发生在model中，因为条件独立只是X的条件独立。那如果Z中有一部分也遵循条件独立的条件，则在model和guide中都要进行条件独立的设置。"
   ]
  },
  {
   "cell_type": "markdown",
   "metadata": {},
   "source": [
    "假设现在我们的模型是这样的：\n",
    "\n",
    "$$\n",
    "p(X, Z, \\beta) = p(\\beta)\\prod_{i=1}^N{p(X_i|Z_i)p(Z_i|\\beta)}\n",
    "$$"
   ]
  },
  {
   "cell_type": "markdown",
   "metadata": {},
   "source": [
    "因为而我们许可估计的prior或latent variables对于每个人都有一个独立的变量。所以，我们的guide有下面的形式："
   ]
  },
  {
   "cell_type": "markdown",
   "metadata": {},
   "source": [
    "$$\n",
    "q(Z, \\beta) = q(\\beta)\\prod_{i=1}^N{q(Z_i|\\beta, \\lambda_i)}\n",
    "$$"
   ]
  },
  {
   "cell_type": "markdown",
   "metadata": {},
   "source": [
    "其中的lambda就是每个分布中可以进行梯度下降调整的可训练参数。"
   ]
  },
  {
   "cell_type": "code",
   "execution_count": 12,
   "metadata": {},
   "outputs": [],
   "source": [
    "def model(data):\n",
    "    beta = pyro.sample(\"beta\", ...) # sample the global RV\n",
    "    for i in pyro.plate(\"locals\", len(data)):\n",
    "        z_i = pyro.sample(\"z_{}\".format(i), ...)\n",
    "        # compute the parameter used to define the observation\n",
    "        # likelihood using the local random variable\n",
    "        theta_i = compute_something(z_i)\n",
    "        pyro.sample(\"obs_{}\".format(i), dist.MyDist(theta_i), obs=data[i])"
   ]
  },
  {
   "cell_type": "code",
   "execution_count": null,
   "metadata": {},
   "outputs": [],
   "source": [
    "def guide(data):\n",
    "    beta = pyro.sample(\"beta\", ...) # sample the global RV\n",
    "    for i in pyro.plate(\"locals\", len(data), subsample_size=5):\n",
    "        # sample the local RVs\n",
    "        pyro.sample(\"z_{}\".format(i), ..., lambda_i)"
   ]
  },
  {
   "cell_type": "markdown",
   "metadata": {},
   "source": [
    "因为在guide和model中出现了相同的\"locals\"，而其就是需要进行subsampling的对象，则只需要指定一个即可。"
   ]
  },
  {
   "cell_type": "markdown",
   "metadata": {},
   "source": [
    "## Amortization"
   ]
  },
  {
   "cell_type": "markdown",
   "metadata": {},
   "source": [
    "如果我们的样本量非常大，则每个样本都分配一个可训练变分参数就会非常使得参数空间急剧增大。而更加有效的方法是通过将样本数据进行映射来得到这些参数（就像VAE那样。）"
   ]
  },
  {
   "cell_type": "markdown",
   "metadata": {},
   "source": [
    "$$q(\\beta)\\prod_{n-1}^N{q(Z_i|f(X_i))}$$"
   ]
  }
 ],
 "metadata": {
  "file_extension": ".py",
  "kernelspec": {
   "display_name": "Python 3.7.3 64-bit ('learning': pyenv)",
   "language": "python",
   "name": "python37364bitlearningpyenv29fd259862cb48389e059aad46ca26e1"
  },
  "language_info": {
   "codemirror_mode": {
    "name": "ipython",
    "version": 3
   },
   "file_extension": ".py",
   "mimetype": "text/x-python",
   "name": "python",
   "nbconvert_exporter": "python",
   "pygments_lexer": "ipython3",
   "version": "3.7.3"
  },
  "mimetype": "text/x-python",
  "name": "python",
  "npconvert_exporter": "python",
  "pygments_lexer": "ipython3",
  "version": 3
 },
 "nbformat": 4,
 "nbformat_minor": 4
}
